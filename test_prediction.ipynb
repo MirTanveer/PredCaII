{
 "cells": [
  {
   "cell_type": "code",
   "execution_count": 1,
   "id": "cc3ba618-86cf-43a6-8a8c-ac75925c0397",
   "metadata": {},
   "outputs": [],
   "source": [
    "import numpy as np\n",
    "import matplotlib.pyplot as plt\n",
    "import pandas as pd"
   ]
  },
  {
   "cell_type": "code",
   "execution_count": 2,
   "id": "1be38dd4-b4e9-4b61-a3dc-f2d3c7317e7f",
   "metadata": {},
   "outputs": [],
   "source": [
    "#Import features\n",
    "data1=pd.read_csv('../Results/PP_results/AAC_pp_cl.csv').iloc[:,2:-1].values\n",
    "data2=pd.read_csv('../Results/PP_results/PAAC_pp_cl.csv').iloc[:,2:-1].values\n",
    "data3=pd.read_csv('../Results/PP_results/APAAC_pp_cl.csv').iloc[:,2:-1].values\n",
    "data4=pd.read_csv('../Results/PP_results/SOCN_pp_cl.csv').iloc[:,2:-1].values\n",
    "data5=pd.read_csv('../Results/PP_results/GAAC_pp_cl.csv').iloc[:,2:-1].values\n",
    "data6=pd.read_csv('../Results/PP_results/CKSAAGP_pp_cl.csv').iloc[:,2:-1].values\n",
    "data7=pd.read_csv('../Results/PP_results/DPC_pp_cl.csv').iloc[:,2:-1].values\n",
    "X1 = np.concatenate((data1, data2, data3, data4, data5, data6, data7), axis=1)\n",
    "\n",
    "# Load the 70-dim GRU feature vectors\n",
    "X2 = np.load(\"../features_70dim.npy\")  # shape: (510, 70)\n",
    "y = pd.read_csv('../Results/PP_results/AAC_pp_cl.csv').iloc[:,-1].values #Labels\n",
    "\n",
    "#Concatenate the features\n",
    "X=np.concatenate((X1,X2), axis=1)"
   ]
  },
  {
   "cell_type": "code",
   "execution_count": 3,
   "id": "65ce7ce2-dc61-414c-8530-5b2dbd019127",
   "metadata": {},
   "outputs": [
    {
     "name": "stdout",
     "output_type": "stream",
     "text": [
      "Shape of the input features is as:  (510, 140)\n",
      "Total number of samples are as:  510\n"
     ]
    }
   ],
   "source": [
    "print(\"Shape of the input features is as: \",  X.shape)\n",
    "print(\"Total number of samples are as: \", len(X))"
   ]
  },
  {
   "cell_type": "code",
   "execution_count": 4,
   "id": "e0d9d0c2-ae00-48bf-82bd-0d3aa56439f5",
   "metadata": {},
   "outputs": [],
   "source": [
    "from sklearn.preprocessing import StandardScaler\n",
    "#Standard Scaler\n",
    "X_stand = np.array(X).reshape(-1, 140)\n",
    "scaler = StandardScaler()\n",
    "# X[:, 70:] = scaler.fit_transform(X[:, 70:])\n",
    "X_stand = scaler.fit_transform(X_stand)"
   ]
  },
  {
   "cell_type": "code",
   "execution_count": 5,
   "id": "f8fcfcf0-b3a2-4cac-8fa4-c1769b190032",
   "metadata": {},
   "outputs": [
    {
     "name": "stdout",
     "output_type": "stream",
     "text": [
      "Number of samples in training set are as:  408\n",
      "Number of samples in test set are as:  102\n",
      "Shape of X_train is:  torch.Size([408, 140])\n",
      "Shape of X_test is:  torch.Size([102, 140])\n",
      "X_train or X_test is of:  <class 'torch.Tensor'>\n"
     ]
    }
   ],
   "source": [
    "#Data preparation\n",
    "from sklearn.model_selection import train_test_split\n",
    "import torch\n",
    "\n",
    "# Convert to PyTorch tensors\n",
    "X_torch = torch.tensor(X_stand, dtype=torch.float32)\n",
    "y_torch = torch.tensor(y, dtype=torch.float32).unsqueeze(1)  # shape: (510, 1)\n",
    "\n",
    "#Use indices to separate the test dataset and the training dataset\n",
    "n_samples=510\n",
    "indices = np.arange(n_samples)\n",
    "\n",
    "\n",
    "# X: features, y: labels\n",
    "X_train, X_test, y_train, y_test, indices_train, indices_test = train_test_split(X_torch, y_torch, indices, test_size=0.2, random_state=26, stratify=y_torch)\n",
    "\n",
    "print(\"Number of samples in training set are as: \", len(X_train))\n",
    "print(\"Number of samples in test set are as: \", len(X_test))\n",
    "print(\"Shape of X_train is: \", X_train.shape)\n",
    "print(\"Shape of X_test is: \", X_test.shape)\n",
    "print(\"X_train or X_test is of: \", type(X_train))"
   ]
  },
  {
   "cell_type": "code",
   "execution_count": 6,
   "id": "23c9254c-3db7-4c66-b91b-dcae9e17cfed",
   "metadata": {},
   "outputs": [],
   "source": [
    "import torch\n",
    "import torch.nn as nn\n",
    "import torch.nn.functional as F\n",
    "from sklearn.metrics import (\n",
    "    recall_score, confusion_matrix, matthews_corrcoef, roc_auc_score\n",
    ")\n",
    "\n",
    "# Define the model class again (must match the original)\n",
    "class FusionClassifier(nn.Module):\n",
    "    def __init__(self, input_dim=140, hidden_dim=64, use_two_layers=True):\n",
    "        super(FusionClassifier, self).__init__()\n",
    "        \n",
    "        self.use_two_layers = use_two_layers\n",
    "        \n",
    "        self.fc1 = nn.Linear(input_dim, hidden_dim)\n",
    "        self.dropout = nn.Dropout(0.3)\n",
    "        \n",
    "        if self.use_two_layers:\n",
    "            self.fc2 = nn.Linear(hidden_dim, hidden_dim // 2)\n",
    "            self.classifier = nn.Linear(hidden_dim // 2, 1)\n",
    "        else:\n",
    "            self.classifier = nn.Linear(hidden_dim, 1)\n",
    "\n",
    "    def forward(self, x):\n",
    "        x = F.relu(self.fc1(x))\n",
    "        x = self.dropout(x)\n",
    "        if self.use_two_layers:\n",
    "            x = F.relu(self.fc2(x))\n",
    "            x = self.dropout(x)\n",
    "        logits = self.classifier(x)\n",
    "        return logits"
   ]
  },
  {
   "cell_type": "code",
   "execution_count": 7,
   "id": "a46ac560-379b-4d75-80ad-0e4346200d34",
   "metadata": {},
   "outputs": [
    {
     "data": {
      "text/plain": [
       "FusionClassifier(\n",
       "  (fc1): Linear(in_features=140, out_features=64, bias=True)\n",
       "  (dropout): Dropout(p=0.3, inplace=False)\n",
       "  (fc2): Linear(in_features=64, out_features=32, bias=True)\n",
       "  (classifier): Linear(in_features=32, out_features=1, bias=True)\n",
       ")"
      ]
     },
     "execution_count": 7,
     "metadata": {},
     "output_type": "execute_result"
    }
   ],
   "source": [
    "# Re-instantiate the model\n",
    "model = FusionClassifier(input_dim=140, hidden_dim=64, use_two_layers=True)\n",
    "\n",
    "# Load the saved state dict\n",
    "model.load_state_dict(torch.load(\"linear_model_weights.pth\", map_location=torch.device(\"cpu\")))  # or \"cuda\" if GPU\n",
    "model.eval()"
   ]
  },
  {
   "cell_type": "code",
   "execution_count": 8,
   "id": "32657f7c-c03c-466d-92bc-7f481613ff3b",
   "metadata": {},
   "outputs": [
    {
     "name": "stdout",
     "output_type": "stream",
     "text": [
      "Accuracy    : 0.9412\n",
      "Recall      : 0.9608\n",
      "Specificity : 0.9216\n",
      "MCC         : 0.8830\n",
      "AUC         : 0.9904\n"
     ]
    }
   ],
   "source": [
    "# Prediction section\n",
    "with torch.no_grad():\n",
    "    logits = model(X_test)\n",
    "    probs = torch.sigmoid(logits)\n",
    "    preds = (probs >= 0.5).int()\n",
    "\n",
    "    accuracy = (preds == y_test.int()).float().mean().item()\n",
    "\n",
    "    y_true = y_test.cpu().numpy().flatten()\n",
    "    y_pred = preds.cpu().numpy().flatten()\n",
    "    y_prob = probs.cpu().numpy().flatten()\n",
    "\n",
    "    tn, fp, fn, tp = confusion_matrix(y_true, y_pred).ravel()\n",
    "    recall = recall_score(y_true, y_pred)\n",
    "    specificity = tn / (tn + fp) if (tn + fp) != 0 else 0\n",
    "    mcc = matthews_corrcoef(y_true, y_pred)\n",
    "    auc = roc_auc_score(y_true, y_prob)\n",
    "\n",
    "    print(f\"Accuracy    : {accuracy:.4f}\")\n",
    "    print(f\"Recall      : {recall:.4f}\")\n",
    "    print(f\"Specificity : {specificity:.4f}\")\n",
    "    print(f\"MCC         : {mcc:.4f}\")\n",
    "    print(f\"AUC         : {auc:.4f}\")"
   ]
  },
  {
   "cell_type": "code",
   "execution_count": null,
   "id": "6a619640-9e8b-4d38-adf9-695d9abab91e",
   "metadata": {},
   "outputs": [],
   "source": []
  }
 ],
 "metadata": {
  "kernelspec": {
   "display_name": "Python 3 (ipykernel)",
   "language": "python",
   "name": "python3"
  },
  "language_info": {
   "codemirror_mode": {
    "name": "ipython",
    "version": 3
   },
   "file_extension": ".py",
   "mimetype": "text/x-python",
   "name": "python",
   "nbconvert_exporter": "python",
   "pygments_lexer": "ipython3",
   "version": "3.12.7"
  }
 },
 "nbformat": 4,
 "nbformat_minor": 5
}
